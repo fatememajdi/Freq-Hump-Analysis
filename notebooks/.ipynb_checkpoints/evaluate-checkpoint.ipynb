{
 "cells": [
  {
   "cell_type": "code",
   "execution_count": null,
   "id": "e6f3456d",
   "metadata": {
    "vscode": {
     "languageId": "plaintext"
    }
   },
   "outputs": [],
   "source": [
    "import sys\n",
    "sys.path.append('../src')\n",
    "from signal_processing import TS,list_signals\n",
    "from hump import detect_hump_range_clusters,check_hump_with_iso_ratio,is_hump_shifting_downward"
   ]
  },
  {
   "cell_type": "code",
   "execution_count": null,
   "id": "6ced8b83-a8f4-4baa-a6e8-1510a7ca2703",
   "metadata": {},
   "outputs": [],
   "source": [
    "signals=list_signals('../data/')"
   ]
  },
  {
   "cell_type": "code",
   "execution_count": null,
   "id": "8fd27b89-2b17-4a3c-bd31-1eb35171060d",
   "metadata": {},
   "outputs": [],
   "source": [
    "for signal in signals:\n",
    "    print(signal)\n",
    "    signal_obj=TS(signal)\n",
    "    signal_obj.signal = signal_obj.signal / 9.806\n",
    "    signal_obj.fftransform()\n",
    "    signal_obj.fft_plt(8000)\n",
    "    print(\"RMS:\",signal_obj.rms())\n",
    "    print(\"Hump Range:\",detect_hump_range_clusters(signal_obj,top_percent=15))\n",
    "    print(check_hump_with_iso_ratio(\n",
    "        signal_obj=signal_obj,\n",
    "        freq_range=detect_hump_range_clusters(signal_obj,top_percent=15),\n",
    "        iso_energy=0.5\n",
    "    ))\n"
   ]
  },
  {
   "cell_type": "code",
   "execution_count": null,
   "id": "afbb45ce-166a-4a14-9774-0ae930f078b6",
   "metadata": {},
   "outputs": [],
   "source": [
    "input_path = \"../data/acc.xlsx\"\n",
    "output_path = \"../data/hump_shift_result.xlsx\"\n",
    "\n",
    "df = pd.read_excel(input_path)\n",
    "df_result = detect_downward_shifts(df)\n",
    "df_result.to_excel(output_path, index=False)\n",
    "\n"
   ]
  }
 ],
 "metadata": {
  "kernelspec": {
   "display_name": "Python [conda env:base] *",
   "language": "python",
   "name": "conda-base-py"
  },
  "language_info": {
   "codemirror_mode": {
    "name": "ipython",
    "version": 3
   },
   "file_extension": ".py",
   "mimetype": "text/x-python",
   "name": "python",
   "nbconvert_exporter": "python",
   "pygments_lexer": "ipython3",
   "version": "3.12.2"
  }
 },
 "nbformat": 4,
 "nbformat_minor": 5
}
