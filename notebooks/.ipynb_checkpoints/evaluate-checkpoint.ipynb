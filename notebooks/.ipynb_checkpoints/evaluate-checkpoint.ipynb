{
 "cells": [
  {
   "cell_type": "code",
   "execution_count": null,
   "id": "e6f3456d",
   "metadata": {
    "vscode": {
     "languageId": "plaintext"
    }
   },
   "outputs": [],
   "source": [
    "import sys\n",
    "sys.path.append('../src')\n",
    "from signal_processing import TS,list_signals\n",
    "from hump import detect_hump_range_clusters,check_hump_with_iso_ratio,is_hump_shifting_downward"
   ]
  },
  {
   "cell_type": "code",
   "execution_count": null,
   "id": "6ced8b83-a8f4-4baa-a6e8-1510a7ca2703",
   "metadata": {},
   "outputs": [],
   "source": [
    "signals=list_signals('../data/')"
   ]
  },
  {
   "cell_type": "code",
   "execution_count": null,
   "id": "8fd27b89-2b17-4a3c-bd31-1eb35171060d",
   "metadata": {},
   "outputs": [],
   "source": [
    "for signal in signals:\n",
    "    print(signal)\n",
    "    signal_obj=TS(signal)\n",
    "    signal_obj.signal = signal_obj.signal / 9.806\n",
    "    signal_obj.fftransform()\n",
    "    signal_obj.fft_plt(8000)\n",
    "    print(\"RMS:\",signal_obj.rms())\n",
    "    print(\"Hump Range:\",detect_hump_range_clusters(signal_obj,top_percent=15))\n",
    "    print(check_hump_with_iso_ratio(\n",
    "        signal_obj=signal_obj,\n",
    "        freq_range=detect_hump_range_clusters(signal_obj,top_percent=15),\n",
    "        iso_energy=0.5\n",
    "    ))\n"
   ]
  },
  {
   "cell_type": "code",
   "execution_count": null,
   "id": "395bd5ff-c838-4cc3-a05d-ac1fbbfc3ad1",
   "metadata": {},
   "outputs": [],
   "source": [
    "import os\n",
    "from datetime import datetime\n",
    "\n",
    "def extract_date_from_header(filepath):\n",
    "    with open(filepath, 'r', encoding='latin-1') as f:\n",
    "        for line in f:\n",
    "            if line.startswith(\"% Date:\"):\n",
    "                date_str = line.strip().replace(\"% Date:\", \"\").strip()\n",
    "                return datetime.strptime(date_str, \"%d-%b-%y %H:%M:%S\")\n",
    "\n",
    "\n",
    "def load_signals_sorted_by_date(folder_path):\n",
    "    signal_objects = []\n",
    "\n",
    "    for filename in os.listdir(folder_path):\n",
    "        if filename.endswith(\".txt\"):\n",
    "            filepath = os.path.join(folder_path, filename)\n",
    "            date = extract_date_from_header(filepath)\n",
    "            if date:\n",
    "                signal = TS(filepath)  \n",
    "                signal_objects.append((date, signal))\n",
    "\n",
    "    sorted_signals = [s for _, s in sorted(signal_objects, key=lambda x: x[0])]\n",
    "    return sorted_signals\n",
    "\n",
    "folder = \"../data/\"\n",
    "signals = load_signals_sorted_by_date(folder)\n",
    "result = is_hump_shifting_downward(signals)\n",
    "print(result)\n"
   ]
  },
  {
   "cell_type": "code",
   "execution_count": null,
   "id": "afbb45ce-166a-4a14-9774-0ae930f078b6",
   "metadata": {},
   "outputs": [],
   "source": []
  }
 ],
 "metadata": {
  "kernelspec": {
   "display_name": "Python [conda env:base] *",
   "language": "python",
   "name": "conda-base-py"
  },
  "language_info": {
   "codemirror_mode": {
    "name": "ipython",
    "version": 3
   },
   "file_extension": ".py",
   "mimetype": "text/x-python",
   "name": "python",
   "nbconvert_exporter": "python",
   "pygments_lexer": "ipython3",
   "version": "3.12.2"
  }
 },
 "nbformat": 4,
 "nbformat_minor": 5
}
